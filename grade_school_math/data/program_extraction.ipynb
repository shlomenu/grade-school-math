{
 "cells": [
  {
   "cell_type": "code",
   "execution_count": 1,
   "id": "28f04670",
   "metadata": {},
   "outputs": [],
   "source": [
    "import ast\n",
    "import json\n",
    "import re\n",
    "import matplotlib.pyplot as plt"
   ]
  },
  {
   "cell_type": "code",
   "execution_count": 2,
   "id": "f25906a3",
   "metadata": {},
   "outputs": [],
   "source": [
    "def load_jsonl(path: str):\n",
    "    with open(path) as f:\n",
    "        return [json.loads(line) for line in f.readlines() if line]"
   ]
  },
  {
   "cell_type": "code",
   "execution_count": 3,
   "id": "24091e0e",
   "metadata": {},
   "outputs": [],
   "source": [
    "train = load_jsonl(\"train.jsonl\")"
   ]
  },
  {
   "cell_type": "code",
   "execution_count": 4,
   "id": "148c9889",
   "metadata": {},
   "outputs": [],
   "source": [
    "answer_calc = [\n",
    "    re.findall(r\"<<([^<>]+=[^<>]+)>>\", e[\"answer\"]) + re.findall(r\"\\#\\#\\#\\#\\s*(\\S+)\\s*\", e[\"answer\"]) \n",
    "    for e in train ]"
   ]
  },
  {
   "cell_type": "code",
   "execution_count": 5,
   "id": "a6ed3412",
   "metadata": {},
   "outputs": [],
   "source": [
    "answer_calc_ord = sorted(zip(answer_calc, train), key=lambda e: len(e[0]))\n",
    "answer_calc, train = [t[0] for t in answer_calc_ord], [t[1] for t in answer_calc_ord]\n",
    "# discard all examples with no extractable calculator annotations\n",
    "first_explicit = [len(e) for e in answer_calc].index(2)\n",
    "answer_calc, train = answer_calc[first_explicit:], train[first_explicit:]"
   ]
  },
  {
   "cell_type": "code",
   "execution_count": 12,
   "id": "c739beaa",
   "metadata": {},
   "outputs": [
    {
     "name": "stdout",
     "output_type": "stream",
     "text": [
      "Q: A car is driving through a tunnel with many turns. After a while, the car must travel through a ring that requires a total of 4 right-hand turns. After the 1st turn, it travels 5 meters. After the 2nd turn, it travels 8 meters. After the 3rd turn, it travels a little further and at the 4th turn, it immediately exits the tunnel. If the car has driven a total of 23 meters around the ring, how far did it have to travel after the 3rd turn?\n",
      "\n",
      "A: From the details given, the car has traveled 5 meters at the 1st turn + 8 meters after the 2nd turn + 0 meters after the 4th turn = <<5+8+0=13>>13 meters around the ring.\n",
      "It must therefore have driven 23 total meters – 13 calculated meters = 10 meters after the 3rd turn.\n",
      "#### 10\n",
      "\n",
      "['5+8+0=13', '10']\n"
     ]
    }
   ],
   "source": [
    "i = 1\n",
    "print(f\"Q: {train[i]['question']}\\n\\nA: {train[i]['answer']}\\n\\n{answer_calc[i]}\")"
   ]
  },
  {
   "cell_type": "code",
   "execution_count": 22,
   "id": "f6fb85a9",
   "metadata": {},
   "outputs": [
    {
     "data": {
      "text/plain": [
       "['1.5*3=4.5', '1.5+4.5=6', '6']"
      ]
     },
     "execution_count": 22,
     "metadata": {},
     "output_type": "execute_result"
    }
   ],
   "source": [
    "answer_calc[1000]"
   ]
  },
  {
   "cell_type": "code",
   "execution_count": 115,
   "id": "a110023b",
   "metadata": {},
   "outputs": [],
   "source": [
    "answer_calc_all = [e for c in answer_calc for e in c]\n",
    "answer_calc_all_ord = sorted(answer_calc_all, key=lambda e: len(re.findall(r\"\\d+(?:\\.\\d+)?\", e)))"
   ]
  },
  {
   "cell_type": "code",
   "execution_count": 116,
   "id": "df5f7b23",
   "metadata": {},
   "outputs": [],
   "source": [
    "answer_calc_ast = [ast.parse(c.replace(\",\", \"\").split(\"=\")[0]) for c in answer_calc_all_ord]"
   ]
  },
  {
   "cell_type": "code",
   "execution_count": 122,
   "id": "bd1984e6",
   "metadata": {},
   "outputs": [
    {
     "name": "stdout",
     "output_type": "stream",
     "text": [
      "1/2*30+1/2*40+1/2*50\n",
      "Module(\n",
      "    body=[\n",
      "        Expr(\n",
      "            value=BinOp(\n",
      "                left=BinOp(\n",
      "                    left=BinOp(\n",
      "                        left=BinOp(\n",
      "                            left=Constant(value=1),\n",
      "                            op=Div(),\n",
      "                            right=Constant(value=2)),\n",
      "                        op=Mult(),\n",
      "                        right=Constant(value=30)),\n",
      "                    op=Add(),\n",
      "                    right=BinOp(\n",
      "                        left=BinOp(\n",
      "                            left=Constant(value=1),\n",
      "                            op=Div(),\n",
      "                            right=Constant(value=2)),\n",
      "                        op=Mult(),\n",
      "                        right=Constant(value=40))),\n",
      "                op=Add(),\n",
      "                right=BinOp(\n",
      "                    left=BinOp(\n",
      "                        left=Constant(value=1),\n",
      "                        op=Div(),\n",
      "                        right=Constant(value=2)),\n",
      "                    op=Mult(),\n",
      "                    right=Constant(value=50))))],\n",
      "    type_ignores=[])\n"
     ]
    }
   ],
   "source": [
    "print(answer_calc_all_ord[-3].replace(\",\", \"\").split(\"=\")[0])\n",
    "print(ast.dump(answer_calc_ast[-3], indent=4))"
   ]
  },
  {
   "cell_type": "code",
   "execution_count": 128,
   "id": "ba5a46f6",
   "metadata": {},
   "outputs": [
    {
     "data": {
      "text/plain": [
       "<ast.BinOp at 0x7f499e1dbdf0>"
      ]
     },
     "execution_count": 128,
     "metadata": {},
     "output_type": "execute_result"
    }
   ],
   "source": [
    "answer_calc_ast[-3].body[0].value"
   ]
  },
  {
   "cell_type": "code",
   "execution_count": 101,
   "id": "f3981596",
   "metadata": {},
   "outputs": [
    {
     "data": {
      "text/plain": [
       "['10+14+18+22+26+30=120',\n",
       " '40+50+65+36+82+72+26=371',\n",
       " '7+12+14+12+5+18+12=80',\n",
       " '40+200+300+130+40+80+444=1234',\n",
       " '.25+.5+.75+1+1.25+1.5+1.75=7',\n",
       " '1+3+5+7+9+11+13=49',\n",
       " '2+2+2+1/3+1/3+1/3=7',\n",
       " '1/2*30+1/2*40+1/2*50=60',\n",
       " '1+3+2+4+3+5+6+1+4+2=31',\n",
       " '2*100+1*50+5*20+3*10+7*5+27*1=442']"
      ]
     },
     "execution_count": 101,
     "metadata": {},
     "output_type": "execute_result"
    }
   ],
   "source": [
    "answer_calc_all_ord[-10:]"
   ]
  },
  {
   "cell_type": "code",
   "execution_count": 90,
   "id": "e401b53e",
   "metadata": {},
   "outputs": [],
   "source": [
    "n_operands = [len(re.findall(r\"\\d+\", c)) for c in answer_calc_all if \"=\" in c]"
   ]
  },
  {
   "cell_type": "code",
   "execution_count": 87,
   "id": "fee84085",
   "metadata": {},
   "outputs": [],
   "source": [
    "operations = [o for c in answer_calc_all for o in re.findall(r\"([^\\d=.,()]+)[+-]?\", c)]"
   ]
  },
  {
   "cell_type": "code",
   "execution_count": 129,
   "id": "22f637b1",
   "metadata": {},
   "outputs": [
    {
     "data": {
      "text/plain": [
       "{'*', '+', '-', '/', '//'}"
      ]
     },
     "execution_count": 129,
     "metadata": {},
     "output_type": "execute_result"
    }
   ],
   "source": [
    "set(o for o in operations if len(o) == 1 or o[-1] not in [\"-\", \"+\"])"
   ]
  },
  {
   "cell_type": "code",
   "execution_count": null,
   "id": "ef1f02d1",
   "metadata": {},
   "outputs": [],
   "source": []
  },
  {
   "cell_type": "code",
   "execution_count": 91,
   "id": "4a3e58f6",
   "metadata": {},
   "outputs": [
    {
     "data": {
      "text/plain": [
       "[<matplotlib.lines.Line2D at 0x7f49a2d0b940>]"
      ]
     },
     "execution_count": 91,
     "metadata": {},
     "output_type": "execute_result"
    },
    {
     "data": {
      "image/png": "[encoded data removed]",
      "text/plain": [
       "<Figure size 640x480 with 1 Axes>"
      ]
     },
     "metadata": {},
     "output_type": "display_data"
    }
   ],
   "source": [
    "plt.plot(list(range(len(n_operands))), sorted(n_operands))"
   ]
  },
  {
   "cell_type": "code",
   "execution_count": null,
   "id": "64b3ea29",
   "metadata": {},
   "outputs": [],
   "source": []
  }
 ],
 "metadata": {
  "kernelspec": {
   "display_name": "Python 3 (ipykernel)",
   "language": "python",
   "name": "python3"
  },
  "language_info": {
   "codemirror_mode": {
    "name": "ipython",
    "version": 3
   },
   "file_extension": ".py",
   "mimetype": "text/x-python",
   "name": "python",
   "nbconvert_exporter": "python",
   "pygments_lexer": "ipython3",
   "version": "3.9.13"
  }
 },
 "nbformat": 4,
 "nbformat_minor": 5
}
